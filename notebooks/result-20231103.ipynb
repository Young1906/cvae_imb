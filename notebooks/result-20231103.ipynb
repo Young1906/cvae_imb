{
 "cells": [
  {
   "cell_type": "code",
   "execution_count": 24,
   "id": "708736cb-89ed-469a-8fb7-0f70a6c64aae",
   "metadata": {},
   "outputs": [],
   "source": [
    "import yaml\n",
    "import numpy as np\n",
    "import pandas as pd\n",
    "from tabulate import tabulate"
   ]
  },
  {
   "cell_type": "code",
   "execution_count": 17,
   "id": "044d6a59-b7c6-4f99-8fb3-75520d8d8d1e",
   "metadata": {},
   "outputs": [
    {
     "data": {
      "text/html": [
       "<div>\n",
       "<style scoped>\n",
       "    .dataframe tbody tr th:only-of-type {\n",
       "        vertical-align: middle;\n",
       "    }\n",
       "\n",
       "    .dataframe tbody tr th {\n",
       "        vertical-align: top;\n",
       "    }\n",
       "\n",
       "    .dataframe thead th {\n",
       "        text-align: right;\n",
       "    }\n",
       "</style>\n",
       "<table border=\"1\" class=\"dataframe\">\n",
       "  <thead>\n",
       "    <tr style=\"text-align: right;\">\n",
       "      <th></th>\n",
       "      <th>timestamp</th>\n",
       "      <th>config</th>\n",
       "      <th>precision</th>\n",
       "      <th>recall</th>\n",
       "      <th>f1_score</th>\n",
       "    </tr>\n",
       "  </thead>\n",
       "  <tbody>\n",
       "    <tr>\n",
       "      <th>0</th>\n",
       "      <td>2023-11-03 13:41:08.457736</td>\n",
       "      <td>config/mcmc/balance_catboost.yml</td>\n",
       "      <td>0.87379</td>\n",
       "      <td>0.888</td>\n",
       "      <td>0.87941</td>\n",
       "    </tr>\n",
       "    <tr>\n",
       "      <th>1</th>\n",
       "      <td>2023-11-03 13:41:13.643964</td>\n",
       "      <td>config/mcmc/balance_catboost.yml</td>\n",
       "      <td>0.85089</td>\n",
       "      <td>0.872</td>\n",
       "      <td>0.85908</td>\n",
       "    </tr>\n",
       "    <tr>\n",
       "      <th>2</th>\n",
       "      <td>2023-11-03 13:41:18.785991</td>\n",
       "      <td>config/mcmc/balance_catboost.yml</td>\n",
       "      <td>0.85711</td>\n",
       "      <td>0.872</td>\n",
       "      <td>0.86230</td>\n",
       "    </tr>\n",
       "    <tr>\n",
       "      <th>3</th>\n",
       "      <td>2023-11-03 13:41:23.932791</td>\n",
       "      <td>config/mcmc/balance_catboost.yml</td>\n",
       "      <td>0.84851</td>\n",
       "      <td>0.864</td>\n",
       "      <td>0.85401</td>\n",
       "    </tr>\n",
       "    <tr>\n",
       "      <th>4</th>\n",
       "      <td>2023-11-03 13:41:29.130929</td>\n",
       "      <td>config/mcmc/balance_catboost.yml</td>\n",
       "      <td>0.85347</td>\n",
       "      <td>0.872</td>\n",
       "      <td>0.85894</td>\n",
       "    </tr>\n",
       "  </tbody>\n",
       "</table>\n",
       "</div>"
      ],
      "text/plain": [
       "                    timestamp                            config  precision  \\\n",
       "0  2023-11-03 13:41:08.457736  config/mcmc/balance_catboost.yml    0.87379   \n",
       "1  2023-11-03 13:41:13.643964  config/mcmc/balance_catboost.yml    0.85089   \n",
       "2  2023-11-03 13:41:18.785991  config/mcmc/balance_catboost.yml    0.85711   \n",
       "3  2023-11-03 13:41:23.932791  config/mcmc/balance_catboost.yml    0.84851   \n",
       "4  2023-11-03 13:41:29.130929  config/mcmc/balance_catboost.yml    0.85347   \n",
       "\n",
       "   recall  f1_score  \n",
       "0   0.888   0.87941  \n",
       "1   0.872   0.85908  \n",
       "2   0.872   0.86230  \n",
       "3   0.864   0.85401  \n",
       "4   0.872   0.85894  "
      ]
     },
     "execution_count": 17,
     "metadata": {},
     "output_type": "execute_result"
    }
   ],
   "source": [
    "results = \\\n",
    "    pd.concat([\n",
    "        pd.read_csv(\"../results/mcmc.csv\", header=None),\n",
    "        pd.read_csv(\"../results/dev.csv\", header=None),\n",
    "    ])\n",
    "\n",
    "\n",
    "\n",
    "results.columns = [\"timestamp\", \"config\", \"precision\", \"recall\", \"f1_score\"]\n",
    "# Remove dev result\n",
    "results = results[results.config.apply(lambda x: False if \"dev\" in x else True)]\n",
    "results.head()"
   ]
  },
  {
   "cell_type": "code",
   "execution_count": 19,
   "id": "b061e910-016e-44ff-91d0-d5611f3178a3",
   "metadata": {},
   "outputs": [],
   "source": [
    "# results[results.config.apply(lambda x: True if \"dev\" in x else False)]"
   ]
  },
  {
   "cell_type": "code",
   "execution_count": 20,
   "id": "f2d698af-47df-4431-b2a4-31e534df88cf",
   "metadata": {},
   "outputs": [],
   "source": [
    "def parse_config_clf(config):\n",
    "    with open(f\"../{config}\", \"r\") as f:\n",
    "        config = yaml.safe_load(f)\n",
    "    return config[\"mcmc\"][\"classifier\"]\n",
    "\n",
    "def parse_config_dataset(config):\n",
    "    with open(f\"../{config}\", \"r\") as f:\n",
    "        config = yaml.safe_load(f)\n",
    "    return config[\"mcmc\"][\"dataset\"]\n",
    "\n",
    "results[\"dataset\"] = results.config.apply(parse_config_dataset)\n",
    "results[\"classifier\"] = results.config.apply(parse_config_clf)"
   ]
  },
  {
   "cell_type": "code",
   "execution_count": 26,
   "id": "b347a180-b01f-40cf-b9b5-97ae12cdf7b1",
   "metadata": {},
   "outputs": [
    {
     "name": "stdout",
     "output_type": "stream",
     "text": [
      "|               | catboost          | decision_tree     | gbc               | knn               | lr                | mlp               | svm               |\n",
      "|---------------|-------------------|-------------------|-------------------|-------------------|-------------------|-------------------|-------------------|\n",
      "| balance       | 0.85534 ± 0.01010 | 0.77878 ± 0.01344 | 0.85522 ± 0.00869 | 0.76407 ± 0.02277 | 0.81874 ± 0.02713 | 0.86270 ± 0.02613 | 0.82459 ± 0.02124 |\n",
      "| breast-cancer | 0.95912 ± 0.00776 | 0.92483 ± 0.01633 | 0.95609 ± 0.00711 | 0.96472 ± 0.00000 | 0.97981 ± 0.00405 | 0.97278 ± 0.00472 | 0.96897 ± 0.00435 |\n",
      "| breast-tissue | 0.79040 ± 0.04859 | 0.68911 ± 0.07027 | 0.70142 ± 0.05085 | 0.66342 ± 0.02148 | 0.71234 ± 0.06512 | 0.59860 ± 0.06217 | 0.63469 ± 0.05318 |\n",
      "| connectionist | 0.78764 ± 0.01644 | 0.72634 ± 0.05323 | 0.79243 ± 0.01853 | 0.81272 ± 0.00909 | 0.66846 ± 0.00843 | 0.83991 ± 0.02029 | 0.78333 ± 0.01880 |\n",
      "| frogs         | 0.99064 ± 0.00091 | 0.96854 ± 0.00444 | 0.97717 ± 0.00200 | 0.99304 ± 0.00000 | 0.94524 ± 0.00232 | 0.98745 ± 0.00194 | 0.98169 ± 0.00087 |\n",
      "| heart_2cl     | 0.82107 ± 0.02139 | 0.74410 ± 0.05252 | 0.81084 ± 0.04649 | 0.68900 ± 0.00000 | 0.89092 ± 0.03232 | 0.85742 ± 0.04248 | 0.79788 ± 0.08831 |\n",
      "| ionosphere    | 0.94449 ± 0.01031 | 0.86825 ± 0.03093 | 0.95142 ± 0.00873 | 0.82372 ± 0.00996 | 0.85594 ± 0.01186 | 0.90219 ± 0.01152 | 0.91556 ± 0.00505 |\n",
      "| parkinsons    | 0.91270 ± 0.02577 | 0.84864 ± 0.03577 | 0.89533 ± 0.03298 | 0.86208 ± 0.00585 | 0.78929 ± 0.02070 | 0.86293 ± 0.02470 | 0.85317 ± 0.00876 |\n"
     ]
    }
   ],
   "source": [
    "rs= pd.pivot_table(\n",
    "    results,\n",
    "    index=[\"dataset\"],\n",
    "    columns = \"classifier\",\n",
    "    values=\"f1_score\",\n",
    "    aggfunc= lambda x: f\"{np.mean(x):.5f} ± {np.std(x):.5f}\"\n",
    ")\n",
    "\n",
    "print(tabulate(rs, headers=rs.columns, tablefmt=\"github\"))"
   ]
  },
  {
   "cell_type": "code",
   "execution_count": 27,
   "id": "f99b2603-973f-40ce-9ff0-7a51b0c3916a",
   "metadata": {},
   "outputs": [
    {
     "name": "stdout",
     "output_type": "stream",
     "text": [
      "|               | catboost          | decision_tree     | gbc               | knn               | lr                | mlp               | svm               |\n",
      "|---------------|-------------------|-------------------|-------------------|-------------------|-------------------|-------------------|-------------------|\n",
      "| balance       | 0.85048 ± 0.01227 | 0.80887 ± 0.01252 | 0.83717 ± 0.01189 | 0.84035 ± 0.01774 | 0.89089 ± 0.03389 | 0.90199 ± 0.01847 | 0.86760 ± 0.01755 |\n",
      "| breast-cancer | 0.95966 ± 0.00758 | 0.92566 ± 0.01621 | 0.95713 ± 0.00674 | 0.96518 ± 0.00000 | 0.97983 ± 0.00401 | 0.97285 ± 0.00473 | 0.96902 ± 0.00439 |\n",
      "| breast-tissue | 0.81126 ± 0.05526 | 0.71117 ± 0.08801 | 0.72665 ± 0.06484 | 0.69018 ± 0.01253 | 0.74354 ± 0.08645 | 0.60262 ± 0.07566 | 0.66122 ± 0.08099 |\n",
      "| connectionist | 0.78875 ± 0.01734 | 0.74320 ± 0.05750 | 0.79385 ± 0.01846 | 0.81521 ± 0.00827 | 0.67868 ± 0.00700 | 0.84281 ± 0.02219 | 0.78576 ± 0.01775 |\n",
      "| frogs         | 0.99065 ± 0.00091 | 0.96859 ± 0.00443 | 0.97722 ± 0.00200 | 0.99307 ± 0.00000 | 0.94525 ± 0.00232 | 0.98746 ± 0.00193 | 0.98169 ± 0.00087 |\n",
      "| heart_2cl     | 0.83945 ± 0.03059 | 0.74168 ± 0.05949 | 0.81908 ± 0.05670 | 0.66435 ± 0.00000 | 0.87540 ± 0.02209 | 0.83726 ± 0.02456 | 0.72622 ± 0.08195 |\n",
      "| ionosphere    | 0.94881 ± 0.01035 | 0.86930 ± 0.03075 | 0.95417 ± 0.00902 | 0.85292 ± 0.00656 | 0.87340 ± 0.01084 | 0.91087 ± 0.01092 | 0.92013 ± 0.00431 |\n",
      "| parkinsons    | 0.91533 ± 0.02663 | 0.85095 ± 0.03620 | 0.90074 ± 0.03723 | 0.86839 ± 0.00760 | 0.78860 ± 0.02119 | 0.87159 ± 0.02783 | 0.88944 ± 0.00452 |\n"
     ]
    }
   ],
   "source": [
    "rs= pd.pivot_table(\n",
    "    results,\n",
    "    index=[\"dataset\"],\n",
    "    columns = \"classifier\",\n",
    "    values=\"precision\",\n",
    "    aggfunc= lambda x: f\"{np.mean(x):.5f} ± {np.std(x):.5f}\"\n",
    ")\n",
    "\n",
    "print(tabulate(rs, headers=rs.columns, tablefmt=\"github\"))"
   ]
  },
  {
   "cell_type": "code",
   "execution_count": 28,
   "id": "aa79f792-d793-4470-9478-3d8e448a3fcd",
   "metadata": {},
   "outputs": [
    {
     "name": "stdout",
     "output_type": "stream",
     "text": [
      "|               | catboost          | decision_tree     | gbc               | knn               | lr                | mlp               | svm               |\n",
      "|---------------|-------------------|-------------------|-------------------|-------------------|-------------------|-------------------|-------------------|\n",
      "| balance       | 0.86427 ± 0.01213 | 0.75520 ± 0.01660 | 0.87787 ± 0.01011 | 0.71040 ± 0.03378 | 0.78213 ± 0.03354 | 0.84000 ± 0.03718 | 0.79493 ± 0.03243 |\n",
      "| breast-cancer | 0.95936 ± 0.00767 | 0.92515 ± 0.01629 | 0.95643 ± 0.00697 | 0.96491 ± 0.00000 | 0.97983 ± 0.00402 | 0.97280 ± 0.00472 | 0.96900 ± 0.00438 |\n",
      "| breast-tissue | 0.79546 ± 0.04507 | 0.70151 ± 0.06394 | 0.71515 ± 0.04970 | 0.66364 ± 0.02227 | 0.71667 ± 0.06175 | 0.63333 ± 0.04830 | 0.65455 ± 0.04636 |\n",
      "| connectionist | 0.78809 ± 0.01667 | 0.72857 ± 0.05309 | 0.79285 ± 0.01860 | 0.81349 ± 0.00887 | 0.66984 ± 0.00809 | 0.84047 ± 0.02053 | 0.78333 ± 0.01880 |\n",
      "| frogs         | 0.99064 ± 0.00091 | 0.96859 ± 0.00443 | 0.97721 ± 0.00200 | 0.99305 ± 0.00000 | 0.94533 ± 0.00232 | 0.98745 ± 0.00194 | 0.98170 ± 0.00087 |\n",
      "| heart_2cl     | 0.84444 ± 0.01889 | 0.74938 ± 0.04823 | 0.83457 ± 0.03853 | 0.72222 ± 0.00000 | 0.91563 ± 0.04422 | 0.89144 ± 0.05743 | 0.89660 ± 0.10057 |\n",
      "| ionosphere    | 0.94554 ± 0.01011 | 0.86948 ± 0.03019 | 0.95211 ± 0.00861 | 0.83568 ± 0.00840 | 0.86291 ± 0.01087 | 0.90516 ± 0.01087 | 0.91737 ± 0.00479 |\n",
      "| parkinsons    | 0.91453 ± 0.02593 | 0.85096 ± 0.03651 | 0.89915 ± 0.03306 | 0.87008 ± 0.00640 | 0.79145 ± 0.02065 | 0.87008 ± 0.02381 | 0.87008 ± 0.00640 |\n"
     ]
    }
   ],
   "source": [
    "rs= pd.pivot_table(\n",
    "    results,\n",
    "    index=[\"dataset\"],\n",
    "    columns = \"classifier\",\n",
    "    values=\"recall\",\n",
    "    aggfunc= lambda x: f\"{np.mean(x):.5f} ± {np.std(x):.5f}\"\n",
    ")\n",
    "\n",
    "print(tabulate(rs, headers=rs.columns, tablefmt=\"github\"))"
   ]
  },
  {
   "cell_type": "code",
   "execution_count": null,
   "id": "c9f9d50c-d32c-4a84-ad11-1fc35ff27c53",
   "metadata": {},
   "outputs": [],
   "source": []
  }
 ],
 "metadata": {
  "kernelspec": {
   "display_name": "Python 3 (ipykernel)",
   "language": "python",
   "name": "python3"
  },
  "language_info": {
   "codemirror_mode": {
    "name": "ipython",
    "version": 3
   },
   "file_extension": ".py",
   "mimetype": "text/x-python",
   "name": "python",
   "nbconvert_exporter": "python",
   "pygments_lexer": "ipython3",
   "version": "3.9.18"
  }
 },
 "nbformat": 4,
 "nbformat_minor": 5
}
